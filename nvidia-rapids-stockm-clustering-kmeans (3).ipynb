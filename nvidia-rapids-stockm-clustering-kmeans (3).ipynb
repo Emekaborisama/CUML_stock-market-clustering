{
 "cells": [
  {
   "cell_type": "markdown",
   "id": "b59d74f6",
   "metadata": {
    "papermill": {
     "duration": 0.024229,
     "end_time": "2021-12-06T13:34:12.431352",
     "exception": false,
     "start_time": "2021-12-06T13:34:12.407123",
     "status": "completed"
    },
    "tags": []
   },
   "source": [
    "# Stock market clustering using CUML and Kmeans.\n",
    "\n",
    "\n",
    "\n",
    "Here is the [dataset](https://www.kaggle.com/rohitjain454/all-stocks-5yr)"
   ]
  },
  {
   "cell_type": "code",
   "execution_count": 1,
   "id": "11bd9a59",
   "metadata": {
    "_cell_guid": "b1076dfc-b9ad-4769-8c92-a6c4dae69d19",
    "_uuid": "8f2839f25d086af736a60e9eeb907d3b93b6e0e5",
    "execution": {
     "iopub.execute_input": "2021-12-06T13:34:12.489276Z",
     "iopub.status.busy": "2021-12-06T13:34:12.488600Z",
     "iopub.status.idle": "2021-12-06T13:34:12.503719Z",
     "shell.execute_reply": "2021-12-06T13:34:12.504318Z",
     "shell.execute_reply.started": "2021-12-06T13:32:35.072301Z"
    },
    "papermill": {
     "duration": 0.049897,
     "end_time": "2021-12-06T13:34:12.504601",
     "exception": false,
     "start_time": "2021-12-06T13:34:12.454704",
     "status": "completed"
    },
    "tags": []
   },
   "outputs": [
    {
     "name": "stdout",
     "output_type": "stream",
     "text": [
      "/kaggle/input/all-stocks-5yr/all_stocks_5yr.csv\n"
     ]
    }
   ],
   "source": [
    "# This Python 3 environment comes with many helpful analytics libraries installed\n",
    "# It is defined by the kaggle/python Docker image: https://github.com/kaggle/docker-python\n",
    "# For example, here's several helpful packages to load\n",
    "\n",
    "import numpy as np # linear algebra\n",
    "import pandas as pd # data processing, CSV file I/O (e.g. pd.read_csv)\n",
    "\n",
    "# Input data files are available in the read-only \"../input/\" directory\n",
    "# For example, running this (by clicking run or pressing Shift+Enter) will list all files under the input directory\n",
    "\n",
    "import os\n",
    "for dirname, _, filenames in os.walk('/kaggle/input'):\n",
    "    for filename in filenames:\n",
    "        print(os.path.join(dirname, filename))\n",
    "\n",
    "# You can write up to 20GB to the current directory (/kaggle/working/) that gets preserved as output when you create a version using \"Save & Run All\" \n",
    "# You can also write temporary files to /kaggle/temp/, but they won't be saved outside of the current session"
   ]
  },
  {
   "cell_type": "code",
   "execution_count": 2,
   "id": "dd8f4838",
   "metadata": {
    "execution": {
     "iopub.execute_input": "2021-12-06T13:34:12.562386Z",
     "iopub.status.busy": "2021-12-06T13:34:12.561824Z",
     "iopub.status.idle": "2021-12-06T13:34:14.674666Z",
     "shell.execute_reply": "2021-12-06T13:34:14.675188Z",
     "shell.execute_reply.started": "2021-12-06T13:32:35.218712Z"
    },
    "papermill": {
     "duration": 2.146143,
     "end_time": "2021-12-06T13:34:14.675346",
     "exception": false,
     "start_time": "2021-12-06T13:34:12.529203",
     "status": "completed"
    },
    "tags": []
   },
   "outputs": [
    {
     "name": "stdout",
     "output_type": "stream",
     "text": [
      "cp: cannot stat '../input/rapids/rapids.21.06': No such file or directory\r\n",
      "tar (child): rapids.tar.gz: Cannot open: No such file or directory\r\n",
      "tar (child): Error is not recoverable: exiting now\r\n",
      "tar: Child returned status 2\r\n",
      "tar: Error is not recoverable: exiting now\r\n",
      "cp: cannot stat '/opt/conda/envs/rapids/lib/libxgboost.so': No such file or directory\r\n"
     ]
    }
   ],
   "source": [
    "import sys\n",
    "!cp ../input/rapids/rapids.21.06 /opt/conda/envs/rapids.tar.gz\n",
    "!cd /opt/conda/envs/ && tar -xzvf rapids.tar.gz > /dev/null\n",
    "sys.path = [\"/opt/conda/envs/rapids/lib/python3.7/site-packages\"] + sys.path\n",
    "sys.path = [\"/opt/conda/envs/rapids/lib/python3.7\"] + sys.path\n",
    "sys.path = [\"/opt/conda/envs/rapids/lib\"] + sys.path \n",
    "!cp /opt/conda/envs/rapids/lib/libxgboost.so /opt/conda/lib/"
   ]
  },
  {
   "cell_type": "code",
   "execution_count": 3,
   "id": "e41bf7f6",
   "metadata": {
    "execution": {
     "iopub.execute_input": "2021-12-06T13:34:14.728017Z",
     "iopub.status.busy": "2021-12-06T13:34:14.727296Z",
     "iopub.status.idle": "2021-12-06T13:34:18.411637Z",
     "shell.execute_reply": "2021-12-06T13:34:18.410808Z",
     "shell.execute_reply.started": "2021-12-06T13:32:37.563355Z"
    },
    "papermill": {
     "duration": 3.712188,
     "end_time": "2021-12-06T13:34:18.411785",
     "exception": false,
     "start_time": "2021-12-06T13:34:14.699597",
     "status": "completed"
    },
    "tags": []
   },
   "outputs": [],
   "source": [
    "import cuml\n",
    "import cudf"
   ]
  },
  {
   "cell_type": "code",
   "execution_count": 4,
   "id": "84116986",
   "metadata": {
    "execution": {
     "iopub.execute_input": "2021-12-06T13:34:18.464204Z",
     "iopub.status.busy": "2021-12-06T13:34:18.463366Z",
     "iopub.status.idle": "2021-12-06T13:34:18.465661Z",
     "shell.execute_reply": "2021-12-06T13:34:18.465198Z",
     "shell.execute_reply.started": "2021-12-06T13:32:41.944457Z"
    },
    "papermill": {
     "duration": 0.029753,
     "end_time": "2021-12-06T13:34:18.465766",
     "exception": false,
     "start_time": "2021-12-06T13:34:18.436013",
     "status": "completed"
    },
    "tags": []
   },
   "outputs": [],
   "source": [
    "# Both import methods supported\n",
    "from cuml import KMeans\n",
    "from cuml.cluster import KMeans\n",
    "\n"
   ]
  },
  {
   "cell_type": "code",
   "execution_count": 5,
   "id": "d365773c",
   "metadata": {
    "execution": {
     "iopub.execute_input": "2021-12-06T13:34:18.516684Z",
     "iopub.status.busy": "2021-12-06T13:34:18.515866Z",
     "iopub.status.idle": "2021-12-06T13:34:18.522370Z",
     "shell.execute_reply": "2021-12-06T13:34:18.521962Z",
     "shell.execute_reply.started": "2021-12-06T13:32:41.954344Z"
    },
    "papermill": {
     "duration": 0.033404,
     "end_time": "2021-12-06T13:34:18.522483",
     "exception": false,
     "start_time": "2021-12-06T13:34:18.489079",
     "status": "completed"
    },
    "tags": []
   },
   "outputs": [],
   "source": [
    "import numpy as np\n",
    "import os\n",
    "%matplotlib inline\n",
    "import matplotlib\n",
    "import matplotlib.pyplot as plt\n",
    "\n",
    "import pandas as pd\n",
    "from pandas import read_csv"
   ]
  },
  {
   "cell_type": "code",
   "execution_count": 6,
   "id": "ecd8a253",
   "metadata": {
    "execution": {
     "iopub.execute_input": "2021-12-06T13:34:18.573298Z",
     "iopub.status.busy": "2021-12-06T13:34:18.572740Z",
     "iopub.status.idle": "2021-12-06T13:34:19.517193Z",
     "shell.execute_reply": "2021-12-06T13:34:19.517653Z",
     "shell.execute_reply.started": "2021-12-06T13:32:41.967890Z"
    },
    "papermill": {
     "duration": 0.971818,
     "end_time": "2021-12-06T13:34:19.517810",
     "exception": false,
     "start_time": "2021-12-06T13:34:18.545992",
     "status": "completed"
    },
    "tags": []
   },
   "outputs": [
    {
     "name": "stdout",
     "output_type": "stream",
     "text": [
      "***Structure of data with all its features***\n"
     ]
    },
    {
     "data": {
      "text/html": [
       "<div>\n",
       "<style scoped>\n",
       "    .dataframe tbody tr th:only-of-type {\n",
       "        vertical-align: middle;\n",
       "    }\n",
       "\n",
       "    .dataframe tbody tr th {\n",
       "        vertical-align: top;\n",
       "    }\n",
       "\n",
       "    .dataframe thead th {\n",
       "        text-align: right;\n",
       "    }\n",
       "</style>\n",
       "<table border=\"1\" class=\"dataframe\">\n",
       "  <thead>\n",
       "    <tr style=\"text-align: right;\">\n",
       "      <th></th>\n",
       "      <th>date</th>\n",
       "      <th>open</th>\n",
       "      <th>high</th>\n",
       "      <th>low</th>\n",
       "      <th>close</th>\n",
       "      <th>volume</th>\n",
       "      <th>Name</th>\n",
       "    </tr>\n",
       "  </thead>\n",
       "  <tbody>\n",
       "    <tr>\n",
       "      <th>0</th>\n",
       "      <td>2013-02-08</td>\n",
       "      <td>15.07</td>\n",
       "      <td>15.12</td>\n",
       "      <td>14.63</td>\n",
       "      <td>14.75</td>\n",
       "      <td>8407500</td>\n",
       "      <td>AAL</td>\n",
       "    </tr>\n",
       "    <tr>\n",
       "      <th>1</th>\n",
       "      <td>2013-02-11</td>\n",
       "      <td>14.89</td>\n",
       "      <td>15.01</td>\n",
       "      <td>14.26</td>\n",
       "      <td>14.46</td>\n",
       "      <td>8882000</td>\n",
       "      <td>AAL</td>\n",
       "    </tr>\n",
       "    <tr>\n",
       "      <th>2</th>\n",
       "      <td>2013-02-12</td>\n",
       "      <td>14.45</td>\n",
       "      <td>14.51</td>\n",
       "      <td>14.10</td>\n",
       "      <td>14.27</td>\n",
       "      <td>8126000</td>\n",
       "      <td>AAL</td>\n",
       "    </tr>\n",
       "    <tr>\n",
       "      <th>3</th>\n",
       "      <td>2013-02-13</td>\n",
       "      <td>14.30</td>\n",
       "      <td>14.94</td>\n",
       "      <td>14.25</td>\n",
       "      <td>14.66</td>\n",
       "      <td>10259500</td>\n",
       "      <td>AAL</td>\n",
       "    </tr>\n",
       "    <tr>\n",
       "      <th>4</th>\n",
       "      <td>2013-02-14</td>\n",
       "      <td>14.94</td>\n",
       "      <td>14.96</td>\n",
       "      <td>13.16</td>\n",
       "      <td>13.99</td>\n",
       "      <td>31879900</td>\n",
       "      <td>AAL</td>\n",
       "    </tr>\n",
       "  </tbody>\n",
       "</table>\n",
       "</div>"
      ],
      "text/plain": [
       "         date   open   high    low  close    volume Name\n",
       "0  2013-02-08  15.07  15.12  14.63  14.75   8407500  AAL\n",
       "1  2013-02-11  14.89  15.01  14.26  14.46   8882000  AAL\n",
       "2  2013-02-12  14.45  14.51  14.10  14.27   8126000  AAL\n",
       "3  2013-02-13  14.30  14.94  14.25  14.66  10259500  AAL\n",
       "4  2013-02-14  14.94  14.96  13.16  13.99  31879900  AAL"
      ]
     },
     "execution_count": 6,
     "metadata": {},
     "output_type": "execute_result"
    }
   ],
   "source": [
    "#Read the data\n",
    "filename = '../input/all-stocks-5yr/all_stocks_5yr.csv'\n",
    "stock = read_csv(filename)\n",
    "print(\"***Structure of data with all its features***\")\n",
    "stock.head()"
   ]
  },
  {
   "cell_type": "code",
   "execution_count": 7,
   "id": "4b099fa9",
   "metadata": {
    "execution": {
     "iopub.execute_input": "2021-12-06T13:34:19.571989Z",
     "iopub.status.busy": "2021-12-06T13:34:19.571443Z",
     "iopub.status.idle": "2021-12-06T13:34:23.019385Z",
     "shell.execute_reply": "2021-12-06T13:34:23.018818Z",
     "shell.execute_reply.started": "2021-12-06T13:32:42.874533Z"
    },
    "papermill": {
     "duration": 3.476118,
     "end_time": "2021-12-06T13:34:23.019517",
     "exception": false,
     "start_time": "2021-12-06T13:34:19.543399",
     "status": "completed"
    },
    "tags": []
   },
   "outputs": [],
   "source": [
    "\n",
    "df = cudf.read_csv(filename)\n"
   ]
  },
  {
   "cell_type": "code",
   "execution_count": null,
   "id": "3fe209cb",
   "metadata": {
    "papermill": {
     "duration": 0.024107,
     "end_time": "2021-12-06T13:34:23.068864",
     "exception": false,
     "start_time": "2021-12-06T13:34:23.044757",
     "status": "completed"
    },
    "tags": []
   },
   "outputs": [],
   "source": []
  },
  {
   "cell_type": "code",
   "execution_count": 8,
   "id": "2efdfb43",
   "metadata": {
    "execution": {
     "iopub.execute_input": "2021-12-06T13:34:23.126699Z",
     "iopub.status.busy": "2021-12-06T13:34:23.125851Z",
     "iopub.status.idle": "2021-12-06T13:34:23.156354Z",
     "shell.execute_reply": "2021-12-06T13:34:23.156745Z",
     "shell.execute_reply.started": "2021-12-06T13:32:47.041815Z"
    },
    "papermill": {
     "duration": 0.063703,
     "end_time": "2021-12-06T13:34:23.156875",
     "exception": false,
     "start_time": "2021-12-06T13:34:23.093172",
     "status": "completed"
    },
    "tags": []
   },
   "outputs": [
    {
     "data": {
      "text/html": [
       "<div>\n",
       "<style scoped>\n",
       "    .dataframe tbody tr th:only-of-type {\n",
       "        vertical-align: middle;\n",
       "    }\n",
       "\n",
       "    .dataframe tbody tr th {\n",
       "        vertical-align: top;\n",
       "    }\n",
       "\n",
       "    .dataframe thead th {\n",
       "        text-align: right;\n",
       "    }\n",
       "</style>\n",
       "<table border=\"1\" class=\"dataframe\">\n",
       "  <thead>\n",
       "    <tr style=\"text-align: right;\">\n",
       "      <th></th>\n",
       "      <th>date</th>\n",
       "      <th>open</th>\n",
       "      <th>high</th>\n",
       "      <th>low</th>\n",
       "      <th>close</th>\n",
       "      <th>volume</th>\n",
       "      <th>Name</th>\n",
       "    </tr>\n",
       "  </thead>\n",
       "  <tbody>\n",
       "    <tr>\n",
       "      <th>619037</th>\n",
       "      <td>2018-02-05</td>\n",
       "      <td>76.64</td>\n",
       "      <td>76.92</td>\n",
       "      <td>73.18</td>\n",
       "      <td>73.83</td>\n",
       "      <td>2962031</td>\n",
       "      <td>ZTS</td>\n",
       "    </tr>\n",
       "    <tr>\n",
       "      <th>619038</th>\n",
       "      <td>2018-02-06</td>\n",
       "      <td>72.74</td>\n",
       "      <td>74.56</td>\n",
       "      <td>72.13</td>\n",
       "      <td>73.27</td>\n",
       "      <td>4924323</td>\n",
       "      <td>ZTS</td>\n",
       "    </tr>\n",
       "    <tr>\n",
       "      <th>619039</th>\n",
       "      <td>2018-02-07</td>\n",
       "      <td>72.70</td>\n",
       "      <td>75.00</td>\n",
       "      <td>72.69</td>\n",
       "      <td>73.86</td>\n",
       "      <td>4534912</td>\n",
       "      <td>ZTS</td>\n",
       "    </tr>\n",
       "  </tbody>\n",
       "</table>\n",
       "</div>"
      ],
      "text/plain": [
       "              date   open   high    low  close   volume Name\n",
       "619037  2018-02-05  76.64  76.92  73.18  73.83  2962031  ZTS\n",
       "619038  2018-02-06  72.74  74.56  72.13  73.27  4924323  ZTS\n",
       "619039  2018-02-07  72.70  75.00  72.69  73.86  4534912  ZTS"
      ]
     },
     "execution_count": 8,
     "metadata": {},
     "output_type": "execute_result"
    }
   ],
   "source": [
    "df.tail(3)"
   ]
  },
  {
   "cell_type": "code",
   "execution_count": 9,
   "id": "d9372ac1",
   "metadata": {
    "execution": {
     "iopub.execute_input": "2021-12-06T13:34:23.212231Z",
     "iopub.status.busy": "2021-12-06T13:34:23.211310Z",
     "iopub.status.idle": "2021-12-06T13:34:23.231049Z",
     "shell.execute_reply": "2021-12-06T13:34:23.230495Z",
     "shell.execute_reply.started": "2021-12-06T13:32:47.095127Z"
    },
    "papermill": {
     "duration": 0.048428,
     "end_time": "2021-12-06T13:34:23.231156",
     "exception": false,
     "start_time": "2021-12-06T13:34:23.182728",
     "status": "completed"
    },
    "tags": []
   },
   "outputs": [
    {
     "data": {
      "text/plain": [
       "date       0\n",
       "open      11\n",
       "high       8\n",
       "low        8\n",
       "close      0\n",
       "volume     0\n",
       "Name       0\n",
       "dtype: uint64"
      ]
     },
     "execution_count": 9,
     "metadata": {},
     "output_type": "execute_result"
    }
   ],
   "source": [
    "df.isnull().sum()"
   ]
  },
  {
   "cell_type": "code",
   "execution_count": 10,
   "id": "fc8783e7",
   "metadata": {
    "execution": {
     "iopub.execute_input": "2021-12-06T13:34:23.285017Z",
     "iopub.status.busy": "2021-12-06T13:34:23.284300Z",
     "iopub.status.idle": "2021-12-06T13:34:23.299582Z",
     "shell.execute_reply": "2021-12-06T13:34:23.300052Z",
     "shell.execute_reply.started": "2021-12-06T13:32:47.127495Z"
    },
    "papermill": {
     "duration": 0.044033,
     "end_time": "2021-12-06T13:34:23.300175",
     "exception": false,
     "start_time": "2021-12-06T13:34:23.256142",
     "status": "completed"
    },
    "tags": []
   },
   "outputs": [],
   "source": [
    "df = df.dropna()"
   ]
  },
  {
   "cell_type": "code",
   "execution_count": 11,
   "id": "91457301",
   "metadata": {
    "execution": {
     "iopub.execute_input": "2021-12-06T13:34:23.354034Z",
     "iopub.status.busy": "2021-12-06T13:34:23.353168Z",
     "iopub.status.idle": "2021-12-06T13:34:23.362543Z",
     "shell.execute_reply": "2021-12-06T13:34:23.362905Z",
     "shell.execute_reply.started": "2021-12-06T13:32:47.155274Z"
    },
    "papermill": {
     "duration": 0.038186,
     "end_time": "2021-12-06T13:34:23.363051",
     "exception": false,
     "start_time": "2021-12-06T13:34:23.324865",
     "status": "completed"
    },
    "tags": []
   },
   "outputs": [
    {
     "data": {
      "text/plain": [
       "date      0\n",
       "open      0\n",
       "high      0\n",
       "low       0\n",
       "close     0\n",
       "volume    0\n",
       "Name      0\n",
       "dtype: uint64"
      ]
     },
     "execution_count": 11,
     "metadata": {},
     "output_type": "execute_result"
    }
   ],
   "source": [
    "df.isnull().sum()"
   ]
  },
  {
   "cell_type": "markdown",
   "id": "73e27a07",
   "metadata": {
    "papermill": {
     "duration": 0.024872,
     "end_time": "2021-12-06T13:34:23.412865",
     "exception": false,
     "start_time": "2021-12-06T13:34:23.387993",
     "status": "completed"
    },
    "tags": []
   },
   "source": [
    "There is a positive correlation between the open and close amount"
   ]
  },
  {
   "cell_type": "code",
   "execution_count": 12,
   "id": "cab1ba0e",
   "metadata": {
    "execution": {
     "iopub.execute_input": "2021-12-06T13:34:23.470686Z",
     "iopub.status.busy": "2021-12-06T13:34:23.469784Z",
     "iopub.status.idle": "2021-12-06T13:34:25.458050Z",
     "shell.execute_reply": "2021-12-06T13:34:25.457599Z",
     "shell.execute_reply.started": "2021-12-06T13:32:47.176096Z"
    },
    "papermill": {
     "duration": 2.018833,
     "end_time": "2021-12-06T13:34:25.458181",
     "exception": false,
     "start_time": "2021-12-06T13:34:23.439348",
     "status": "completed"
    },
    "tags": []
   },
   "outputs": [
    {
     "data": {
      "text/plain": [
       "<AxesSubplot:xlabel='open', ylabel='close'>"
      ]
     },
     "execution_count": 12,
     "metadata": {},
     "output_type": "execute_result"
    },
    {
     "data": {
      "image/png": "[encoded data removed]",
      "text/plain": [
       "<Figure size 432x288 with 1 Axes>"
      ]
     },
     "metadata": {
      "needs_background": "light"
     },
     "output_type": "display_data"
    }
   ],
   "source": [
    "#Copy dataset from GPU memory to host memory and plot the dataset\n",
    "df.to_pandas().plot(kind='scatter', x='open', y='close', cmap=('rainbow'), sharex=True)"
   ]
  },
  {
   "cell_type": "code",
   "execution_count": null,
   "id": "317e4717",
   "metadata": {
    "papermill": {
     "duration": 0.027012,
     "end_time": "2021-12-06T13:34:25.511739",
     "exception": false,
     "start_time": "2021-12-06T13:34:25.484727",
     "status": "completed"
    },
    "tags": []
   },
   "outputs": [],
   "source": []
  },
  {
   "cell_type": "code",
   "execution_count": null,
   "id": "c83e7309",
   "metadata": {
    "papermill": {
     "duration": 0.027339,
     "end_time": "2021-12-06T13:34:25.565957",
     "exception": false,
     "start_time": "2021-12-06T13:34:25.538618",
     "status": "completed"
    },
    "tags": []
   },
   "outputs": [],
   "source": []
  },
  {
   "cell_type": "code",
   "execution_count": 13,
   "id": "15e30e56",
   "metadata": {
    "execution": {
     "iopub.execute_input": "2021-12-06T13:34:25.625090Z",
     "iopub.status.busy": "2021-12-06T13:34:25.624300Z",
     "iopub.status.idle": "2021-12-06T13:34:25.630334Z",
     "shell.execute_reply": "2021-12-06T13:34:25.629899Z",
     "shell.execute_reply.started": "2021-12-06T13:32:49.615820Z"
    },
    "papermill": {
     "duration": 0.037259,
     "end_time": "2021-12-06T13:34:25.630449",
     "exception": false,
     "start_time": "2021-12-06T13:34:25.593190",
     "status": "completed"
    },
    "tags": []
   },
   "outputs": [],
   "source": [
    "x_train = df.drop(['date', 'Name'], axis = 1)"
   ]
  },
  {
   "cell_type": "code",
   "execution_count": 14,
   "id": "de38be42",
   "metadata": {
    "execution": {
     "iopub.execute_input": "2021-12-06T13:34:25.689592Z",
     "iopub.status.busy": "2021-12-06T13:34:25.689000Z",
     "iopub.status.idle": "2021-12-06T13:34:25.757208Z",
     "shell.execute_reply": "2021-12-06T13:34:25.756650Z",
     "shell.execute_reply.started": "2021-12-06T13:32:49.629013Z"
    },
    "papermill": {
     "duration": 0.099464,
     "end_time": "2021-12-06T13:34:25.757351",
     "exception": false,
     "start_time": "2021-12-06T13:34:25.657887",
     "status": "completed"
    },
    "tags": []
   },
   "outputs": [],
   "source": [
    "# Feature Scaling using gpu matrix \n",
    "from sklearn.preprocessing import StandardScaler\n",
    "sc = StandardScaler()\n",
    "df3 = sc.fit_transform(x_train.as_gpu_matrix())"
   ]
  },
  {
   "cell_type": "code",
   "execution_count": 15,
   "id": "16bc3d69",
   "metadata": {
    "execution": {
     "iopub.execute_input": "2021-12-06T13:34:25.815686Z",
     "iopub.status.busy": "2021-12-06T13:34:25.814680Z",
     "iopub.status.idle": "2021-12-06T13:34:26.453552Z",
     "shell.execute_reply": "2021-12-06T13:34:26.454287Z",
     "shell.execute_reply.started": "2021-12-06T13:32:49.698182Z"
    },
    "papermill": {
     "duration": 0.670917,
     "end_time": "2021-12-06T13:34:26.454518",
     "exception": false,
     "start_time": "2021-12-06T13:34:25.783601",
     "status": "completed"
    },
    "tags": []
   },
   "outputs": [
    {
     "name": "stdout",
     "output_type": "stream",
     "text": [
      "(619029, 5)\n",
      "(619029, 2)\n"
     ]
    }
   ],
   "source": [
    "#pca to reduce the dimension of the data\n",
    "\n",
    "from sklearn.decomposition import PCA \n",
    "pca = PCA(2)  \n",
    "projected = pca.fit_transform(df3)\n",
    "print(df3.shape)\n",
    "print(projected.shape)"
   ]
  },
  {
   "cell_type": "markdown",
   "id": "e6729f15",
   "metadata": {
    "papermill": {
     "duration": 0.029712,
     "end_time": "2021-12-06T13:34:26.533880",
     "exception": false,
     "start_time": "2021-12-06T13:34:26.504168",
     "status": "completed"
    },
    "tags": []
   },
   "source": [
    "find k using elbow method"
   ]
  },
  {
   "cell_type": "code",
   "execution_count": 16,
   "id": "8acf7f8d",
   "metadata": {
    "execution": {
     "iopub.execute_input": "2021-12-06T13:34:26.593266Z",
     "iopub.status.busy": "2021-12-06T13:34:26.592439Z",
     "iopub.status.idle": "2021-12-06T13:34:26.594403Z",
     "shell.execute_reply": "2021-12-06T13:34:26.594766Z",
     "shell.execute_reply.started": "2021-12-06T13:32:50.406376Z"
    },
    "papermill": {
     "duration": 0.03369,
     "end_time": "2021-12-06T13:34:26.594895",
     "exception": false,
     "start_time": "2021-12-06T13:34:26.561205",
     "status": "completed"
    },
    "tags": []
   },
   "outputs": [],
   "source": [
    "def kmean_score(nclust):\n",
    "    km = KMeans(n_clusters=nclust)\n",
    "    km.fit(projected)\n",
    "    rss = -km.score(projected)\n",
    "    return rss"
   ]
  },
  {
   "cell_type": "code",
   "execution_count": 17,
   "id": "ade3fa4b",
   "metadata": {
    "execution": {
     "iopub.execute_input": "2021-12-06T13:34:26.653055Z",
     "iopub.status.busy": "2021-12-06T13:34:26.652291Z",
     "iopub.status.idle": "2021-12-06T13:34:29.702648Z",
     "shell.execute_reply": "2021-12-06T13:34:29.703471Z",
     "shell.execute_reply.started": "2021-12-06T13:32:50.417252Z"
    },
    "papermill": {
     "duration": 3.082088,
     "end_time": "2021-12-06T13:34:29.703687",
     "exception": false,
     "start_time": "2021-12-06T13:34:26.621599",
     "status": "completed"
    },
    "tags": []
   },
   "outputs": [],
   "source": [
    "scores = [kmean_score(i) for i in range(1, 8)]"
   ]
  },
  {
   "cell_type": "code",
   "execution_count": 18,
   "id": "bd43a931",
   "metadata": {
    "execution": {
     "iopub.execute_input": "2021-12-06T13:34:29.789642Z",
     "iopub.status.busy": "2021-12-06T13:34:29.782775Z",
     "iopub.status.idle": "2021-12-06T13:34:29.963614Z",
     "shell.execute_reply": "2021-12-06T13:34:29.964015Z",
     "shell.execute_reply.started": "2021-12-06T13:32:54.050333Z"
    },
    "papermill": {
     "duration": 0.227961,
     "end_time": "2021-12-06T13:34:29.964159",
     "exception": false,
     "start_time": "2021-12-06T13:34:29.736198",
     "status": "completed"
    },
    "tags": []
   },
   "outputs": [
    {
     "data": {
      "text/plain": [
       "Text(0.5, 1.0, 'RSS versus K')"
      ]
     },
     "execution_count": 18,
     "metadata": {},
     "output_type": "execute_result"
    },
    {
     "data": {
      "image/png": "[encoded data removed]",
      "text/plain": [
       "<Figure size 432x288 with 1 Axes>"
      ]
     },
     "metadata": {
      "needs_background": "light"
     },
     "output_type": "display_data"
    }
   ],
   "source": [
    "import matplotlib.pyplot as plt\n",
    "%matplotlib inline\n",
    "\n",
    "plt.plot(range(1, 8), scores)\n",
    "plt.xlabel('K')\n",
    "plt.ylabel('RSS')\n",
    "plt.title('RSS versus K')"
   ]
  },
  {
   "cell_type": "code",
   "execution_count": 19,
   "id": "ed439fde",
   "metadata": {
    "execution": {
     "iopub.execute_input": "2021-12-06T13:34:30.023789Z",
     "iopub.status.busy": "2021-12-06T13:34:30.023019Z",
     "iopub.status.idle": "2021-12-06T13:34:30.250962Z",
     "shell.execute_reply": "2021-12-06T13:34:30.250516Z",
     "shell.execute_reply.started": "2021-12-06T13:32:54.300551Z"
    },
    "papermill": {
     "duration": 0.259397,
     "end_time": "2021-12-06T13:34:30.251089",
     "exception": false,
     "start_time": "2021-12-06T13:34:29.991692",
     "status": "completed"
    },
    "tags": []
   },
   "outputs": [],
   "source": [
    "#fit and predict model\n",
    "\n",
    "from cuml.cluster import KMeans as KMeans\n",
    "\n",
    "kmeans = KMeans(n_clusters=3, max_iter=300, init='k-means||')\n",
    "\n",
    "kme = kmeans.fit_predict(projected)\n"
   ]
  },
  {
   "cell_type": "code",
   "execution_count": null,
   "id": "d11ca0ae",
   "metadata": {
    "papermill": {
     "duration": 0.027262,
     "end_time": "2021-12-06T13:34:30.305566",
     "exception": false,
     "start_time": "2021-12-06T13:34:30.278304",
     "status": "completed"
    },
    "tags": []
   },
   "outputs": [],
   "source": [
    "\n"
   ]
  },
  {
   "cell_type": "code",
   "execution_count": null,
   "id": "fb79934f",
   "metadata": {
    "papermill": {
     "duration": 0.027076,
     "end_time": "2021-12-06T13:34:30.359648",
     "exception": false,
     "start_time": "2021-12-06T13:34:30.332572",
     "status": "completed"
    },
    "tags": []
   },
   "outputs": [],
   "source": []
  },
  {
   "cell_type": "code",
   "execution_count": 20,
   "id": "e872260e",
   "metadata": {
    "execution": {
     "iopub.execute_input": "2021-12-06T13:34:30.439904Z",
     "iopub.status.busy": "2021-12-06T13:34:30.430467Z",
     "iopub.status.idle": "2021-12-06T13:34:33.503105Z",
     "shell.execute_reply": "2021-12-06T13:34:33.502640Z",
     "shell.execute_reply.started": "2021-12-06T13:33:00.070398Z"
    },
    "papermill": {
     "duration": 3.116513,
     "end_time": "2021-12-06T13:34:33.503225",
     "exception": false,
     "start_time": "2021-12-06T13:34:30.386712",
     "status": "completed"
    },
    "tags": []
   },
   "outputs": [
    {
     "data": {
      "image/png": "[encoded data removed]",
      "text/plain": [
       "<Figure size 576x432 with 2 Axes>"
      ]
     },
     "metadata": {
      "needs_background": "light"
     },
     "output_type": "display_data"
    },
    {
     "data": {
      "text/plain": [
       "<Figure size 432x288 with 0 Axes>"
      ]
     },
     "metadata": {},
     "output_type": "display_data"
    }
   ],
   "source": [
    "#plot clusters\n",
    "\n",
    "\n",
    "fig, ax = plt.subplots(figsize = (8, 6))\n",
    "\n",
    "plt.scatter(projected[:, 0], projected[:, 1],\n",
    "            c=kme, \n",
    "            edgecolor=\"none\", \n",
    "            cmap=plt.cm.get_cmap(\"Spectral_r\", 5),\n",
    "            alpha=0.5)\n",
    "        \n",
    "plt.gca().spines[\"top\"].set_visible(False)\n",
    "plt.gca().spines[\"right\"].set_visible(False)\n",
    "plt.gca().spines[\"bottom\"].set_visible(False)\n",
    "plt.gca().spines[\"left\"].set_visible(False)\n",
    "\n",
    "plt.xticks(size=12)\n",
    "plt.yticks(size=12)\n",
    "\n",
    "plt.xlabel(\"Component 1\", size = 14, labelpad=10)\n",
    "plt.ylabel(\"Component 2\", size = 14, labelpad=10)\n",
    "\n",
    "plt.title('clusters', size=16)\n",
    "\n",
    "\n",
    "plt.colorbar(ticks=[0, 1, 2, 3, 4]);\n",
    "\n",
    "plt.show()\n",
    "plt.savefig('cluster.png')"
   ]
  },
  {
   "cell_type": "code",
   "execution_count": null,
   "id": "7793bce6",
   "metadata": {
    "papermill": {
     "duration": 0.028336,
     "end_time": "2021-12-06T13:34:33.562522",
     "exception": false,
     "start_time": "2021-12-06T13:34:33.534186",
     "status": "completed"
    },
    "tags": []
   },
   "outputs": [],
   "source": []
  },
  {
   "cell_type": "markdown",
   "id": "8da40a3e",
   "metadata": {
    "papermill": {
     "duration": 0.028884,
     "end_time": "2021-12-06T13:34:33.620074",
     "exception": false,
     "start_time": "2021-12-06T13:34:33.591190",
     "status": "completed"
    },
    "tags": []
   },
   "source": [
    "add k means label to the dataframe"
   ]
  },
  {
   "cell_type": "code",
   "execution_count": 21,
   "id": "79c9a6d1",
   "metadata": {
    "execution": {
     "iopub.execute_input": "2021-12-06T13:34:33.681325Z",
     "iopub.status.busy": "2021-12-06T13:34:33.680562Z",
     "iopub.status.idle": "2021-12-06T13:34:33.894173Z",
     "shell.execute_reply": "2021-12-06T13:34:33.894557Z",
     "shell.execute_reply.started": "2021-12-06T13:33:44.522325Z"
    },
    "papermill": {
     "duration": 0.246032,
     "end_time": "2021-12-06T13:34:33.894704",
     "exception": false,
     "start_time": "2021-12-06T13:34:33.648672",
     "status": "completed"
    },
    "tags": []
   },
   "outputs": [
    {
     "data": {
      "text/html": [
       "<div>\n",
       "<style scoped>\n",
       "    .dataframe tbody tr th:only-of-type {\n",
       "        vertical-align: middle;\n",
       "    }\n",
       "\n",
       "    .dataframe tbody tr th {\n",
       "        vertical-align: top;\n",
       "    }\n",
       "\n",
       "    .dataframe thead th {\n",
       "        text-align: right;\n",
       "    }\n",
       "</style>\n",
       "<table border=\"1\" class=\"dataframe\">\n",
       "  <thead>\n",
       "    <tr style=\"text-align: right;\">\n",
       "      <th></th>\n",
       "      <th>date</th>\n",
       "      <th>open</th>\n",
       "      <th>high</th>\n",
       "      <th>low</th>\n",
       "      <th>close</th>\n",
       "      <th>volume</th>\n",
       "      <th>Name</th>\n",
       "      <th>predicted</th>\n",
       "    </tr>\n",
       "  </thead>\n",
       "  <tbody>\n",
       "    <tr>\n",
       "      <th>618035</th>\n",
       "      <td>2014-02-12</td>\n",
       "      <td>29.20</td>\n",
       "      <td>30.1325</td>\n",
       "      <td>29.13</td>\n",
       "      <td>30.00</td>\n",
       "      <td>14394220</td>\n",
       "      <td>ZTS</td>\n",
       "      <td>0</td>\n",
       "    </tr>\n",
       "    <tr>\n",
       "      <th>618036</th>\n",
       "      <td>2014-02-13</td>\n",
       "      <td>29.93</td>\n",
       "      <td>30.1700</td>\n",
       "      <td>29.56</td>\n",
       "      <td>29.67</td>\n",
       "      <td>7891632</td>\n",
       "      <td>ZTS</td>\n",
       "      <td>0</td>\n",
       "    </tr>\n",
       "    <tr>\n",
       "      <th>618037</th>\n",
       "      <td>2014-02-14</td>\n",
       "      <td>29.66</td>\n",
       "      <td>30.0000</td>\n",
       "      <td>29.55</td>\n",
       "      <td>29.88</td>\n",
       "      <td>5579063</td>\n",
       "      <td>ZTS</td>\n",
       "      <td>0</td>\n",
       "    </tr>\n",
       "    <tr>\n",
       "      <th>618038</th>\n",
       "      <td>2014-02-18</td>\n",
       "      <td>29.91</td>\n",
       "      <td>30.5900</td>\n",
       "      <td>29.88</td>\n",
       "      <td>30.27</td>\n",
       "      <td>6087798</td>\n",
       "      <td>ZTS</td>\n",
       "      <td>0</td>\n",
       "    </tr>\n",
       "    <tr>\n",
       "      <th>618039</th>\n",
       "      <td>2014-02-19</td>\n",
       "      <td>30.04</td>\n",
       "      <td>30.1600</td>\n",
       "      <td>29.63</td>\n",
       "      <td>29.75</td>\n",
       "      <td>6169876</td>\n",
       "      <td>ZTS</td>\n",
       "      <td>0</td>\n",
       "    </tr>\n",
       "    <tr>\n",
       "      <th>...</th>\n",
       "      <td>...</td>\n",
       "      <td>...</td>\n",
       "      <td>...</td>\n",
       "      <td>...</td>\n",
       "      <td>...</td>\n",
       "      <td>...</td>\n",
       "      <td>...</td>\n",
       "      <td>...</td>\n",
       "    </tr>\n",
       "    <tr>\n",
       "      <th>619035</th>\n",
       "      <td>2018-02-01</td>\n",
       "      <td>76.84</td>\n",
       "      <td>78.2700</td>\n",
       "      <td>76.69</td>\n",
       "      <td>77.82</td>\n",
       "      <td>2982259</td>\n",
       "      <td>ZTS</td>\n",
       "      <td>0</td>\n",
       "    </tr>\n",
       "    <tr>\n",
       "      <th>619036</th>\n",
       "      <td>2018-02-02</td>\n",
       "      <td>77.53</td>\n",
       "      <td>78.1200</td>\n",
       "      <td>76.73</td>\n",
       "      <td>76.78</td>\n",
       "      <td>2595187</td>\n",
       "      <td>ZTS</td>\n",
       "      <td>0</td>\n",
       "    </tr>\n",
       "    <tr>\n",
       "      <th>619037</th>\n",
       "      <td>2018-02-05</td>\n",
       "      <td>76.64</td>\n",
       "      <td>76.9200</td>\n",
       "      <td>73.18</td>\n",
       "      <td>73.83</td>\n",
       "      <td>2962031</td>\n",
       "      <td>ZTS</td>\n",
       "      <td>0</td>\n",
       "    </tr>\n",
       "    <tr>\n",
       "      <th>619038</th>\n",
       "      <td>2018-02-06</td>\n",
       "      <td>72.74</td>\n",
       "      <td>74.5600</td>\n",
       "      <td>72.13</td>\n",
       "      <td>73.27</td>\n",
       "      <td>4924323</td>\n",
       "      <td>ZTS</td>\n",
       "      <td>0</td>\n",
       "    </tr>\n",
       "    <tr>\n",
       "      <th>619039</th>\n",
       "      <td>2018-02-07</td>\n",
       "      <td>72.70</td>\n",
       "      <td>75.0000</td>\n",
       "      <td>72.69</td>\n",
       "      <td>73.86</td>\n",
       "      <td>4534912</td>\n",
       "      <td>ZTS</td>\n",
       "      <td>0</td>\n",
       "    </tr>\n",
       "  </tbody>\n",
       "</table>\n",
       "<p>1005 rows × 8 columns</p>\n",
       "</div>"
      ],
      "text/plain": [
       "              date   open     high    low  close    volume Name  predicted\n",
       "618035  2014-02-12  29.20  30.1325  29.13  30.00  14394220  ZTS          0\n",
       "618036  2014-02-13  29.93  30.1700  29.56  29.67   7891632  ZTS          0\n",
       "618037  2014-02-14  29.66  30.0000  29.55  29.88   5579063  ZTS          0\n",
       "618038  2014-02-18  29.91  30.5900  29.88  30.27   6087798  ZTS          0\n",
       "618039  2014-02-19  30.04  30.1600  29.63  29.75   6169876  ZTS          0\n",
       "...            ...    ...      ...    ...    ...       ...  ...        ...\n",
       "619035  2018-02-01  76.84  78.2700  76.69  77.82   2982259  ZTS          0\n",
       "619036  2018-02-02  77.53  78.1200  76.73  76.78   2595187  ZTS          0\n",
       "619037  2018-02-05  76.64  76.9200  73.18  73.83   2962031  ZTS          0\n",
       "619038  2018-02-06  72.74  74.5600  72.13  73.27   4924323  ZTS          0\n",
       "619039  2018-02-07  72.70  75.0000  72.69  73.86   4534912  ZTS          0\n",
       "\n",
       "[1005 rows x 8 columns]"
      ]
     },
     "execution_count": 21,
     "metadata": {},
     "output_type": "execute_result"
    }
   ],
   "source": [
    "results_df = df.copy()\n",
    "\n",
    "results_df['predicted'] = kmeans.labels_\n",
    "\n",
    "results_df.tail(1005)"
   ]
  },
  {
   "cell_type": "code",
   "execution_count": 22,
   "id": "230e6aa2",
   "metadata": {
    "execution": {
     "iopub.execute_input": "2021-12-06T13:34:33.966043Z",
     "iopub.status.busy": "2021-12-06T13:34:33.965275Z",
     "iopub.status.idle": "2021-12-06T13:34:33.990776Z",
     "shell.execute_reply": "2021-12-06T13:34:33.991207Z",
     "shell.execute_reply.started": "2021-12-06T13:33:44.884586Z"
    },
    "papermill": {
     "duration": 0.063981,
     "end_time": "2021-12-06T13:34:33.991345",
     "exception": false,
     "start_time": "2021-12-06T13:34:33.927364",
     "status": "completed"
    },
    "tags": []
   },
   "outputs": [
    {
     "data": {
      "text/plain": [
       "0    516756\n",
       "2     96386\n",
       "1      5887\n",
       "Name: predicted, dtype: int32"
      ]
     },
     "execution_count": 22,
     "metadata": {},
     "output_type": "execute_result"
    }
   ],
   "source": [
    "results_df['predicted'].value_counts()"
   ]
  },
  {
   "cell_type": "code",
   "execution_count": 23,
   "id": "bf14a08d",
   "metadata": {
    "execution": {
     "iopub.execute_input": "2021-12-06T13:34:34.055760Z",
     "iopub.status.busy": "2021-12-06T13:34:34.055255Z",
     "iopub.status.idle": "2021-12-06T13:34:34.065062Z",
     "shell.execute_reply": "2021-12-06T13:34:34.064615Z",
     "shell.execute_reply.started": "2021-12-06T13:33:46.490315Z"
    },
    "papermill": {
     "duration": 0.04368,
     "end_time": "2021-12-06T13:34:34.065172",
     "exception": false,
     "start_time": "2021-12-06T13:34:34.021492",
     "status": "completed"
    },
    "tags": []
   },
   "outputs": [
    {
     "data": {
      "text/plain": [
       "1.0"
      ]
     },
     "execution_count": 23,
     "metadata": {},
     "output_type": "execute_result"
    }
   ],
   "source": [
    "#evaluation metrics\n",
    "\n",
    "from cuml.metrics import adjusted_rand_score\n",
    "\n",
    "score = adjusted_rand_score(labels_true=results_df['predicted'], \n",
    "                            labels_pred=kmeans.labels_)\n",
    "\n",
    "\n",
    "score"
   ]
  },
  {
   "cell_type": "code",
   "execution_count": 24,
   "id": "8878d8e0",
   "metadata": {
    "execution": {
     "iopub.execute_input": "2021-12-06T13:34:34.137711Z",
     "iopub.status.busy": "2021-12-06T13:34:34.136887Z",
     "iopub.status.idle": "2021-12-06T13:34:34.174765Z",
     "shell.execute_reply": "2021-12-06T13:34:34.175559Z",
     "shell.execute_reply.started": "2021-12-06T13:33:48.178438Z"
    },
    "papermill": {
     "duration": 0.080926,
     "end_time": "2021-12-06T13:34:34.175690",
     "exception": false,
     "start_time": "2021-12-06T13:34:34.094764",
     "status": "completed"
    },
    "tags": []
   },
   "outputs": [
    {
     "data": {
      "text/html": [
       "<div>\n",
       "<style scoped>\n",
       "    .dataframe tbody tr th:only-of-type {\n",
       "        vertical-align: middle;\n",
       "    }\n",
       "\n",
       "    .dataframe tbody tr th {\n",
       "        vertical-align: top;\n",
       "    }\n",
       "\n",
       "    .dataframe thead th {\n",
       "        text-align: right;\n",
       "    }\n",
       "</style>\n",
       "<table border=\"1\" class=\"dataframe\">\n",
       "  <thead>\n",
       "    <tr style=\"text-align: right;\">\n",
       "      <th></th>\n",
       "      <th>Name</th>\n",
       "      <th>predicted</th>\n",
       "    </tr>\n",
       "  </thead>\n",
       "  <tbody>\n",
       "    <tr>\n",
       "      <th>0</th>\n",
       "      <td>AAL</td>\n",
       "      <td>0</td>\n",
       "    </tr>\n",
       "    <tr>\n",
       "      <th>1</th>\n",
       "      <td>AAL</td>\n",
       "      <td>0</td>\n",
       "    </tr>\n",
       "    <tr>\n",
       "      <th>2</th>\n",
       "      <td>AAL</td>\n",
       "      <td>0</td>\n",
       "    </tr>\n",
       "    <tr>\n",
       "      <th>3</th>\n",
       "      <td>AAL</td>\n",
       "      <td>0</td>\n",
       "    </tr>\n",
       "    <tr>\n",
       "      <th>4</th>\n",
       "      <td>AAL</td>\n",
       "      <td>0</td>\n",
       "    </tr>\n",
       "    <tr>\n",
       "      <th>...</th>\n",
       "      <td>...</td>\n",
       "      <td>...</td>\n",
       "    </tr>\n",
       "    <tr>\n",
       "      <th>619035</th>\n",
       "      <td>ZTS</td>\n",
       "      <td>0</td>\n",
       "    </tr>\n",
       "    <tr>\n",
       "      <th>619036</th>\n",
       "      <td>ZTS</td>\n",
       "      <td>0</td>\n",
       "    </tr>\n",
       "    <tr>\n",
       "      <th>619037</th>\n",
       "      <td>ZTS</td>\n",
       "      <td>0</td>\n",
       "    </tr>\n",
       "    <tr>\n",
       "      <th>619038</th>\n",
       "      <td>ZTS</td>\n",
       "      <td>0</td>\n",
       "    </tr>\n",
       "    <tr>\n",
       "      <th>619039</th>\n",
       "      <td>ZTS</td>\n",
       "      <td>0</td>\n",
       "    </tr>\n",
       "  </tbody>\n",
       "</table>\n",
       "<p>619029 rows × 2 columns</p>\n",
       "</div>"
      ],
      "text/plain": [
       "       Name  predicted\n",
       "0       AAL          0\n",
       "1       AAL          0\n",
       "2       AAL          0\n",
       "3       AAL          0\n",
       "4       AAL          0\n",
       "...     ...        ...\n",
       "619035  ZTS          0\n",
       "619036  ZTS          0\n",
       "619037  ZTS          0\n",
       "619038  ZTS          0\n",
       "619039  ZTS          0\n",
       "\n",
       "[619029 rows x 2 columns]"
      ]
     },
     "execution_count": 24,
     "metadata": {},
     "output_type": "execute_result"
    }
   ],
   "source": [
    "results_df[['Name', 'predicted']]"
   ]
  },
  {
   "cell_type": "raw",
   "id": "53aa2df8",
   "metadata": {
    "papermill": {
     "duration": 0.029919,
     "end_time": "2021-12-06T13:34:34.235600",
     "exception": false,
     "start_time": "2021-12-06T13:34:34.205681",
     "status": "completed"
    },
    "tags": []
   },
   "source": []
  },
  {
   "cell_type": "markdown",
   "id": "32a9fc5c",
   "metadata": {
    "papermill": {
     "duration": 0.029959,
     "end_time": "2021-12-06T13:34:34.296405",
     "exception": false,
     "start_time": "2021-12-06T13:34:34.266446",
     "status": "completed"
    },
    "tags": []
   },
   "source": [
    "## Future work:\n",
    "- Label the clusters\n",
    "- Behaviour test and setup model explanability\n",
    "- export and deploy the model using fast or flask api"
   ]
  },
  {
   "cell_type": "code",
   "execution_count": null,
   "id": "adb998db",
   "metadata": {
    "papermill": {
     "duration": 0.029709,
     "end_time": "2021-12-06T13:34:34.355878",
     "exception": false,
     "start_time": "2021-12-06T13:34:34.326169",
     "status": "completed"
    },
    "tags": []
   },
   "outputs": [],
   "source": []
  }
 ],
 "metadata": {
  "kernelspec": {
   "display_name": "Python 3",
   "language": "python",
   "name": "python3"
  },
  "language_info": {
   "codemirror_mode": {
    "name": "ipython",
    "version": 3
   },
   "file_extension": ".py",
   "mimetype": "text/x-python",
   "name": "python",
   "nbconvert_exporter": "python",
   "pygments_lexer": "ipython3",
   "version": "3.7.12"
  },
  "papermill": {
   "default_parameters": {},
   "duration": 31.533737,
   "end_time": "2021-12-06T13:34:35.596217",
   "environment_variables": {},
   "exception": null,
   "input_path": "__notebook__.ipynb",
   "output_path": "__notebook__.ipynb",
   "parameters": {},
   "start_time": "2021-12-06T13:34:04.062480",
   "version": "2.3.3"
  }
 },
 "nbformat": 4,
 "nbformat_minor": 5
}
